{
 "cells": [
  {
   "cell_type": "markdown",
   "id": "b76ec523",
   "metadata": {},
   "source": [
    "# Assignment 1"
   ]
  },
  {
   "cell_type": "markdown",
   "id": "1fbf0344",
   "metadata": {},
   "source": [
    "This is the output of the first assignment. The objective is to initiate a git repository, create an Python script to display numbers 1 through 10 and create an python markdown file explaining the process\n",
    "\n",
    "This is the first step in the python script to import the numpy package and create a list variable with the numbers 1 through 10"
   ]
  },
  {
   "cell_type": "code",
   "execution_count": 1,
   "id": "aa7c4525",
   "metadata": {},
   "outputs": [],
   "source": [
    "import numpy as np\n",
    "\n",
    "list1 = [1,2,3,4,5,6,7,8,9,10]"
   ]
  },
  {
   "cell_type": "markdown",
   "id": "25da4f0f",
   "metadata": {},
   "source": [
    "Then the next step is to creat a vector from the list variable and display that vector"
   ]
  },
  {
   "cell_type": "code",
   "execution_count": 2,
   "id": "d083a5d9",
   "metadata": {},
   "outputs": [
    {
     "name": "stdout",
     "output_type": "stream",
     "text": [
      "[ 1  2  3  4  5  6  7  8  9 10]\n"
     ]
    }
   ],
   "source": [
    "vector1 = np.array(list1)\n",
    "print(vector1)"
   ]
  }
 ],
 "metadata": {
  "kernelspec": {
   "display_name": "Python 3 (ipykernel)",
   "language": "python",
   "name": "python3"
  },
  "language_info": {
   "codemirror_mode": {
    "name": "ipython",
    "version": 3
   },
   "file_extension": ".py",
   "mimetype": "text/x-python",
   "name": "python",
   "nbconvert_exporter": "python",
   "pygments_lexer": "ipython3",
   "version": "3.9.12"
  }
 },
 "nbformat": 4,
 "nbformat_minor": 5
}
